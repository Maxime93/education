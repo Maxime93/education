{
 "cells": [
  {
   "cell_type": "markdown",
   "metadata": {},
   "source": [
    "- course: https://www.youtube.com/watch?v=OgO1gpXSUzU\n",
    "- complete course: https://ocw.mit.edu/courses/electrical-engineering-and-computer-science/6-0002-introduction-to-computational-thinking-and-data-science-fall-2016/"
   ]
  },
  {
   "cell_type": "code",
   "execution_count": 4,
   "metadata": {},
   "outputs": [],
   "source": [
    "import random"
   ]
  },
  {
   "cell_type": "code",
   "execution_count": 14,
   "metadata": {},
   "outputs": [],
   "source": [
    "class FairRoulette():\n",
    "    def __init__(self):\n",
    "        self.pockets = []\n",
    "        for i in range(1,37):\n",
    "            self.pockets.append(i)\n",
    "        self.ball = None\n",
    "        self.pocketOdds = len(self.pockets) - 1\n",
    "    \n",
    "    def spin(self):\n",
    "        self.ball = random.choice(self.pockets)\n",
    "        \n",
    "    def bet_pocket(self, pocket, amt):\n",
    "        if str(pocket) == str(self.ball):\n",
    "            return amt * self.pocketOdds\n",
    "        else:\n",
    "            return -amt\n",
    "    \n",
    "    def __str__(self):\n",
    "        return 'Fair Roulette'"
   ]
  },
  {
   "cell_type": "code",
   "execution_count": 21,
   "metadata": {},
   "outputs": [],
   "source": [
    "class EuRoulette(FairRoulette):\n",
    "    def __init__(self):\n",
    "        FairRoulette.__init__(self)\n",
    "        self.pockets.append('0')\n",
    "    def __str__(self):\n",
    "        return 'European Roulette'\n",
    "    \n",
    "class AmRoulette(EuRoulette):\n",
    "    def __init(self):\n",
    "        EuRoulette.__init__(self)\n",
    "        self.pockets.append('00')\n",
    "    def __str__(self):\n",
    "        return 'American Roulette'"
   ]
  },
  {
   "cell_type": "code",
   "execution_count": 15,
   "metadata": {},
   "outputs": [],
   "source": [
    "def play_roulette(game, num_spins, pocket, bet, to_print):\n",
    "    tot_pocket = 0\n",
    "    for i in range(num_spins):\n",
    "        game.spin()\n",
    "        tot_pocket += game.bet_pocket(pocket, bet)\n",
    "    if to_print:\n",
    "        print(num_spins, 'spins of', game)\n",
    "        print('Expected return betting', pocket, '=', str(100*tot_pocket/num_spins) + '%\\n')\n",
    "    return (tot_pocket/num_spins)"
   ]
  },
  {
   "cell_type": "code",
   "execution_count": 23,
   "metadata": {},
   "outputs": [
    {
     "name": "stdout",
     "output_type": "stream",
     "text": [
      "1000 spins of Fair Roulette\n",
      "Expected return betting 2 = 8.0%\n",
      "\n",
      "1000 spins of European Roulette\n",
      "Expected return betting 2 = -10.0%\n",
      "\n",
      "1000 spins of American Roulette\n",
      "Expected return betting 2 = 4.4%\n",
      "\n",
      "1000 spins of Fair Roulette\n",
      "Expected return betting 2 = 8.0%\n",
      "\n",
      "1000 spins of European Roulette\n",
      "Expected return betting 2 = -31.6%\n",
      "\n",
      "1000 spins of American Roulette\n",
      "Expected return betting 2 = -10.0%\n",
      "\n",
      "1000 spins of Fair Roulette\n",
      "Expected return betting 2 = -2.8%\n",
      "\n",
      "1000 spins of European Roulette\n",
      "Expected return betting 2 = 4.4%\n",
      "\n",
      "1000 spins of American Roulette\n",
      "Expected return betting 2 = -31.6%\n",
      "\n",
      "10000 spins of Fair Roulette\n",
      "Expected return betting 2 = 5.48%\n",
      "\n",
      "10000 spins of European Roulette\n",
      "Expected return betting 2 = 4.4%\n",
      "\n",
      "10000 spins of American Roulette\n",
      "Expected return betting 2 = 3.68%\n",
      "\n",
      "10000 spins of Fair Roulette\n",
      "Expected return betting 2 = -8.92%\n",
      "\n",
      "10000 spins of European Roulette\n",
      "Expected return betting 2 = 5.48%\n",
      "\n",
      "10000 spins of American Roulette\n",
      "Expected return betting 2 = -6.76%\n",
      "\n",
      "10000 spins of Fair Roulette\n",
      "Expected return betting 2 = 6.92%\n",
      "\n",
      "10000 spins of European Roulette\n",
      "Expected return betting 2 = -2.44%\n",
      "\n",
      "10000 spins of American Roulette\n",
      "Expected return betting 2 = -5.68%\n",
      "\n",
      "100000 spins of Fair Roulette\n",
      "Expected return betting 2 = -3.052%\n",
      "\n",
      "100000 spins of European Roulette\n",
      "Expected return betting 2 = -3.736%\n",
      "\n",
      "100000 spins of American Roulette\n",
      "Expected return betting 2 = -0.676%\n",
      "\n",
      "100000 spins of Fair Roulette\n",
      "Expected return betting 2 = 2.24%\n",
      "\n",
      "100000 spins of European Roulette\n",
      "Expected return betting 2 = -3.628%\n",
      "\n",
      "100000 spins of American Roulette\n",
      "Expected return betting 2 = -2.872%\n",
      "\n",
      "100000 spins of Fair Roulette\n",
      "Expected return betting 2 = -0.46%\n",
      "\n",
      "100000 spins of European Roulette\n",
      "Expected return betting 2 = -2.188%\n",
      "\n",
      "100000 spins of American Roulette\n",
      "Expected return betting 2 = -1.792%\n",
      "\n",
      "1000000 spins of Fair Roulette\n",
      "Expected return betting 2 = 0.0296%\n",
      "\n",
      "1000000 spins of European Roulette\n",
      "Expected return betting 2 = -3.646%\n",
      "\n",
      "1000000 spins of American Roulette\n",
      "Expected return betting 2 = -2.2852%\n",
      "\n",
      "1000000 spins of Fair Roulette\n",
      "Expected return betting 2 = 0.4112%\n",
      "\n",
      "1000000 spins of European Roulette\n",
      "Expected return betting 2 = -1.9648%\n",
      "\n",
      "1000000 spins of American Roulette\n",
      "Expected return betting 2 = -2.6416%\n",
      "\n",
      "1000000 spins of Fair Roulette\n",
      "Expected return betting 2 = 0.1268%\n",
      "\n",
      "1000000 spins of European Roulette\n",
      "Expected return betting 2 = -2.314%\n",
      "\n",
      "1000000 spins of American Roulette\n",
      "Expected return betting 2 = -2.3824%\n",
      "\n"
     ]
    }
   ],
   "source": [
    "fair_game = FairRoulette()\n",
    "eu_game = EuRoulette()\n",
    "am_game = AmRoulette()\n",
    "for num_spins in (1000, 10000, 100000, 1000000):\n",
    "    for i in range(3):\n",
    "        play_roulette(fair_game, num_spins, 2, 1, True)\n",
    "        play_roulette(eu_game, num_spins, 2, 1, True)\n",
    "        play_roulette(am_game, num_spins, 2, 1, True)"
   ]
  },
  {
   "cell_type": "markdown",
   "metadata": {},
   "source": [
    "## Law of large numbers\n",
    "Also known as Bernouilli."
   ]
  },
  {
   "cell_type": "code",
   "execution_count": null,
   "metadata": {},
   "outputs": [],
   "source": []
  },
  {
   "cell_type": "code",
   "execution_count": null,
   "metadata": {},
   "outputs": [],
   "source": []
  },
  {
   "cell_type": "code",
   "execution_count": null,
   "metadata": {},
   "outputs": [],
   "source": []
  }
 ],
 "metadata": {
  "kernelspec": {
   "display_name": "Python 3",
   "language": "python",
   "name": "python3"
  },
  "language_info": {
   "codemirror_mode": {
    "name": "ipython",
    "version": 3
   },
   "file_extension": ".py",
   "mimetype": "text/x-python",
   "name": "python",
   "nbconvert_exporter": "python",
   "pygments_lexer": "ipython3",
   "version": "3.7.4"
  }
 },
 "nbformat": 4,
 "nbformat_minor": 4
}
