{
 "cells": [
  {
   "cell_type": "markdown",
   "metadata": {},
   "source": [
    "https://www.youtube.com/watch?v=HtSuA80QTyo"
   ]
  },
  {
   "cell_type": "code",
   "execution_count": 11,
   "metadata": {},
   "outputs": [
    {
     "data": {
      "text/plain": [
       "9"
      ]
     },
     "execution_count": 11,
     "metadata": {},
     "output_type": "execute_result"
    }
   ],
   "source": [
    "# Peak finder\n",
    "l = [1, 2, 5, 9, 8, 4, 3, 2, 1]\n",
    "#    1. 2. 3. 4. 5. 6. 7. 8. 9.    \n",
    "# Peak is 9\n",
    "len(l)\n",
    "# Find a peak (if it exists).\n",
    "# Peak def: position i is a apeak if and only if b >= a & b >= c"
   ]
  },
  {
   "cell_type": "code",
   "execution_count": 12,
   "metadata": {},
   "outputs": [
    {
     "data": {
      "text/plain": [
       "9"
      ]
     },
     "execution_count": 12,
     "metadata": {},
     "output_type": "execute_result"
    }
   ],
   "source": [
    "# version one, going from left to right\n",
    "# complexity O(n)\n",
    "def v1(l):\n",
    "    for i in range(len(l)):\n",
    "        if i == 0:\n",
    "            if l[i] >= l[i+1]:\n",
    "                return l[i]\n",
    "        elif i == len(l)-1:\n",
    "            if l[i] >= l[i-1]:\n",
    "                return l[i]\n",
    "        else:\n",
    "            if (l[i] >= l[i-1]) and (l[i] >= l[i+1]):\n",
    "                return l[i]\n",
    "\n",
    "v1(l)"
   ]
  },
  {
   "cell_type": "code",
   "execution_count": 29,
   "metadata": {},
   "outputs": [
    {
     "name": "stdout",
     "output_type": "stream",
     "text": [
      "4\n",
      "9 8 4\n",
      "[1, 2, 5, 9]\n",
      "\n",
      "2\n",
      "2 5 9\n",
      "[5, 9]\n",
      "\n",
      "1\n",
      "[5, 9]\n"
     ]
    },
    {
     "data": {
      "text/plain": [
       "9"
      ]
     },
     "execution_count": 29,
     "metadata": {},
     "output_type": "execute_result"
    }
   ],
   "source": [
    "# version 2, divide and conquer\n",
    "# We look at n/2 position, look left and look right\n",
    "# if a[n/2] < a[(n/2)-1] then only look left half for a peak\n",
    "# What is the new complexity?\n",
    "# log(n)\n",
    "\n",
    "def v2(l):\n",
    "    half = int(len(l)/2)\n",
    "    half_minus = int(len(l)/2) - 1\n",
    "    half_plus = int(len(l)/2) + 1\n",
    "    print(half)\n",
    "    \n",
    "    if half != 1:\n",
    "        print(l[half_minus], l[half], l[half_plus])\n",
    "        if l[half_minus] >= l[half]:\n",
    "            direction = 'left'\n",
    "            new_list = l[:half]\n",
    "        elif l[half_plus] >= l[half]:\n",
    "            direction = 'right'\n",
    "            new_list = l[half:]\n",
    "        else:\n",
    "            return l[half]\n",
    "    else:\n",
    "        print(l)\n",
    "        if l[0] >= l[1]:\n",
    "            return l[0]\n",
    "        else:\n",
    "            return l[1]\n",
    "    \n",
    "    print(new_list)\n",
    "    print()\n",
    "    return v2(new_list)\n",
    "\n",
    "v2(l)"
   ]
  },
  {
   "cell_type": "code",
   "execution_count": null,
   "metadata": {},
   "outputs": [],
   "source": [
    "# 2Dversion of this\n",
    "l = [[1,2,3],\n",
    "     [4,5,6],\n",
    "     [7,8,9],\n",
    "     [10,11,12]]\n",
    "# n: rows, m: cols\n",
    "# 2D peak: All the cells touching you need to be <= to you\n",
    "# Greedy ascent Algo: random start somewhere and navigate left, right, up, down\n",
    "# We will end up touching a bunch of the elements. Worst case all the elements (O(m*n))\n",
    "\n",
    "# Divide and conquer\n",
    "# pick middle col: find 1d peak\n",
    "# pick row of col above: find 1D peak\n",
    "# Nope this is incorrect\n",
    "\n",
    "# pick middle col: find global max\n",
    "# pick row of col above: find 1D peak"
   ]
  }
 ],
 "metadata": {
  "kernelspec": {
   "display_name": "Python 3",
   "language": "python",
   "name": "python3"
  },
  "language_info": {
   "codemirror_mode": {
    "name": "ipython",
    "version": 3
   },
   "file_extension": ".py",
   "mimetype": "text/x-python",
   "name": "python",
   "nbconvert_exporter": "python",
   "pygments_lexer": "ipython3",
   "version": "3.7.4"
  }
 },
 "nbformat": 4,
 "nbformat_minor": 4
}
