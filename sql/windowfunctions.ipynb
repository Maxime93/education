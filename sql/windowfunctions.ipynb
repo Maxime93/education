{
 "cells": [
  {
   "cell_type": "markdown",
   "metadata": {},
   "source": [
    "how can we select some information for those auctions which had their final_price higher than the average final_price? We have to use a subquery. Take a look:\n",
    "```\n",
    "SELECT\n",
    "  id,\n",
    "  final_price \n",
    "FROM (\n",
    "  SELECT\n",
    "    id,\n",
    "    final_price,\n",
    "    AVG(final_price) OVER() AS avg_final_price\n",
    "  FROM auction) c\n",
    "WHERE final_price > avg_final_price\n",
    "```\n",
    "In the FROM clause, we introduced a subquery where we selected both the final_price for each auction and the average final_price. Because the whole subquery is calculated before the external query, we can use avg_final_price in the external query."
   ]
  },
  {
   "cell_type": "markdown",
   "metadata": {},
   "source": [
    "Find the id, country and views for those auctions where the number of views was below the average.\n",
    "```\n",
    "select\n",
    "\tid, country, views\n",
    "from (select id, country, views, avg(views) over() as avg_views\n",
    "      from auction) d\n",
    "where views < avg_views;\n",
    "```"
   ]
  },
  {
   "cell_type": "markdown",
   "metadata": {},
   "source": [
    "Just as we expected, no window functions are allowed in HAVING either. Okay, you know that the remedy is to use a subquery. Try to correct the query on your own. Don't worry if you can't, the hint will be waiting for you in case you need it.\n",
    "\n",
    "Exercise\n",
    "Again, we would like to show those countries (country name and average final price) that have the average final price higher than the average price from all over the world. Correct the query by using a subquery.\n",
    "\n",
    "```\n",
    "SELECT \n",
    "  country, \n",
    "  AVG(final_price) \n",
    "FROM auction \n",
    "GROUP BY country \n",
    "HAVING AVG(final_price) > (select avg(final_price) from auction);\n",
    "```"
   ]
  },
  {
   "cell_type": "markdown",
   "metadata": {},
   "source": [
    "```\n",
    "SELECT\n",
    "  quartile,\n",
    "  MIN(views),\n",
    "  MAX(views)\n",
    "FROM\n",
    "  (SELECT\n",
    "    views,\n",
    "    ntile(4) OVER(ORDER BY views DESC) AS quartile\n",
    "  FROM auction) c\n",
    "GROUP BY quartile;\n",
    "```\n",
    "We used the window function in the inner query, which is why we could use it for grouping in the external query."
   ]
  },
  {
   "cell_type": "markdown",
   "metadata": {},
   "source": [
    "Now, divide all auctions into 6 equal groups based on the asking_price in ascending order. Show columns group_no, minimal, average and maximal value for that group. Sort by the group in ascending order.\n",
    "```\n",
    "select\n",
    "\tx.group_no,\n",
    "    MIN(x.asking_price),\n",
    "    AVG(x.asking_price),\n",
    "    MAX(x.asking_price)\n",
    "from (select\n",
    "          asking_price,\n",
    "          ntile(6) over(order by asking_price) as group_no\n",
    "      from auction) x\n",
    "group by x.group_no\n",
    "```"
   ]
  },
  {
   "cell_type": "markdown",
   "metadata": {},
   "source": [
    "So, to sum up this section, remember the following rule: the only places where we can use window functions without having to write subqueries are the SELECT and ORDER BY clauses. In all other places you have to use subqueries.\n",
    "\n",
    "Exercise\n",
    "You've seen several examples where the window function was placed in the SELECT clause, but how about trying to put it in the ORDER BY clause now?\n",
    "\n",
    "For each auction, show the following columns: id, views and quartile based on the number of views in descending order. Order the rows by the quartile.\n",
    "\n",
    "```\n",
    "select\n",
    "\tid, views, \n",
    "    ntile(4) over(order by views desc) as quartile\n",
    "from auction\n",
    "order by ntile(4) over(order by views desc)\n",
    ";\n",
    "```"
   ]
  },
  {
   "cell_type": "markdown",
   "metadata": {},
   "source": [
    "Before, we said that window functions were calculated after the GROUP BY clause. This has a very important implication for our queries: if the query uses any aggregates, GROUP BY or HAVING, the window function sees the group rows instead of the original table rows.\n",
    "\n",
    "To get a better understanding of this phenomenon, take a look at the following example:\n",
    "```\n",
    "SELECT \n",
    "  category_id,\n",
    "  final_price, \n",
    "  AVG(final_price) OVER() \n",
    "FROM auction;\n",
    "```\n",
    "This simple query will show the id and final_price of each auction alongside the average final_price from all the auctions. Now, take a look at the modified example with grouping:\n",
    "```\n",
    "SELECT \n",
    "  category_id,\n",
    "  MAX(final_price), \n",
    "  AVG(final_price) OVER() \n",
    "FROM auction \n",
    "GROUP BY category_id;\n",
    "```\n",
    "Will this query work? Let's find out!\n",
    "\n",
    "However, let's take a look at another modification of this example:\n",
    "```\n",
    "SELECT\n",
    "  category_id,\n",
    "  MAX(final_price) AS max_final, \n",
    "  AVG(MAX(final_price)) OVER()\n",
    "FROM auction\n",
    "GROUP BY category_id;\n",
    "```\n",
    "What will happen now?\n",
    "\n",
    "Exercise\n",
    "Run the template.\n",
    "\n",
    "As you can see, the query now succeeded because we used an aggregate function (MAX(final_price)) that was indeed available after grouping the rows. By the way, this is the only place where you can nest aggregate functions inside one another."
   ]
  },
  {
   "cell_type": "markdown",
   "metadata": {},
   "source": [
    "Okay. The best way to correctly create queries with window functions and GROUP BY is as follows: first, create the query with GROUP BY, but without window functions. Run the query (in the database or in your head). Now, the columns you see in the result are the only columns you can use in your window functions.\n",
    "\n",
    "Exercise\n",
    "Group the auctions by the country. Show the country, the minimal number of participants in an auction and the average minimal number of participants across all countries.\n",
    "\n",
    "```\n",
    "select\n",
    "\tcountry,\n",
    "    MIN(participants),\n",
    "    AVG(MIN(participants)) over()\n",
    "from auction\n",
    "group by country;\n",
    "```"
   ]
  },
  {
   "cell_type": "markdown",
   "metadata": {},
   "source": [
    "Group the auctions by category_id and show the category_id and maximal asking price in that category alongside the average maximal price across all categories.\n",
    "```\n",
    "select\n",
    "\tcategory_id,\n",
    "    MAX(asking_price),\n",
    "    AVG(MAX(asking_price)) over()\n",
    "from auction\n",
    "group by category_id\n",
    "```"
   ]
  },
  {
   "cell_type": "markdown",
   "metadata": {},
   "source": [
    "As you can see, it's fairly simple to create quite advanced statistics very easily thanks to how window functions behave with GROUP BY. Let's take a look at other use cases.\n",
    "\n",
    "For instance, we may make a ranking based on an aggregate function. Take a look:\n",
    "```\n",
    "SELECT\n",
    "  country,\n",
    "  COUNT(id),\n",
    "  RANK() OVER(ORDER BY COUNT(id) DESC)\n",
    "FROM auction\n",
    "GROUP BY country;\n",
    "```\n",
    "We grouped auctions with respect to the country, counted the number of auctions from each country... and then we created a ranking based on that count of auctions.\n",
    "\n",
    "Exercise\n",
    "Now, group the auctions based on the category. Show category_id, the sum of final prices for auctions from this category and a ranking based on that sum, with the highest sum coming first.\n",
    "```\n",
    "select\n",
    "\tcategory_id,\n",
    "    sum(final_price),\n",
    "    rank() over(order by sum(final_price) desc)\n",
    "from auction\n",
    "group by category_id\n",
    "```"
   ]
  },
  {
   "cell_type": "markdown",
   "metadata": {},
   "source": [
    "Group the auctions based on the day they ended and show the following columns: ended, the average number of views from auctions on that day and the ranking based on that average (the highest average should get the rank of 1).\n",
    "\n",
    "```\n",
    "select\n",
    "\tended,\n",
    "    AVG(views),\n",
    "    rank() over(order by avg(views) desc)\n",
    "from auction\n",
    "group by ended\n",
    "```"
   ]
  },
  {
   "cell_type": "markdown",
   "metadata": {},
   "source": [
    "Great. Another thing we can do with window functions when rows are grouped are leads, lags and day-to-day deltas. Take a look:\n",
    "```\n",
    "SELECT\n",
    "  ended,\n",
    "  SUM(final_price) AS sum_price,\n",
    "  LAG(SUM(final_price)) OVER(ORDER BY ended)\n",
    "FROM auction\n",
    "GROUP BY ended\n",
    "ORDER BY ended\n",
    "```\n",
    "The above query shows each end date with the total price of all items sold on that day and the same total price on the previous day.\n",
    "\n",
    "Exercise\n",
    "For each end day, show the following columns:\n",
    "- ended.\n",
    "- the sum of views from auctions that ended on that day.\n",
    "- the sum of views from the previous day (name the column previous_day.\n",
    "- delta – the difference between the sum of views on that day and on the previous day (name the column delta).\n",
    "\n",
    "```\n",
    "select\n",
    "\tended,\n",
    "    sum(views),\n",
    "    lag(sum(views)) over(order by ended) as previous_day,\n",
    "    sum(views) - lag(sum(views)) over(order by ended) as delta\n",
    "from auction\n",
    "group by ended\n",
    "```"
   ]
  },
  {
   "cell_type": "markdown",
   "metadata": {},
   "source": [
    "Perfect. Finally, you can use window functions with PARTITION BY on grouped rows. One thing you need to remember is that the window function will only see grouped rows, not the original rows. Take a look:\n",
    "```\n",
    "SELECT\n",
    "  country,\n",
    "  ended,\n",
    "  SUM(views) AS views_on_day,\n",
    "  SUM(SUM(views)) OVER(PARTITION BY country)\n",
    "    AS views_country\n",
    "FROM auction\n",
    "GROUP BY country, ended\n",
    "ORDER BY country, ended\n",
    "```\n",
    "The query might require a bit of explanation. First of all, we grouped all rows by the country and ended. Then, we showed the country name and date when the auctions ended. Look what happens in the next two columns. First, we simply sum the views in accordance with our GROUP BY clause, i.e. we get the sum of views in all auctions from the particular country on the particular day. But look what happens next. We use a window function to sum all daily sums for a particular country. As a result, we get the sum of views for a particular country on all days.\n",
    "\n",
    "Exercise\n",
    "Group all auctions by the category and end date and show the following columns:\n",
    "\n",
    "- category_id.\n",
    "- ended.\n",
    "- the average daily final price as daily_avg_final_price in that category on that day.\n",
    "- the maximal daily average in that category from any day as daily_max_avg.\n",
    "\n",
    "```\n",
    "select\n",
    "\tcategory_id,\n",
    "    ended,\n",
    "    AVG(final_price) as daily_avg_final_price,\n",
    "    MAX(AVG(final_price)) over(partition by category_id) as daily_max_avg\n",
    "from auction\n",
    "group by category_id, ended\n",
    "```"
   ]
  },
  {
   "cell_type": "markdown",
   "metadata": {},
   "source": [
    "Divide the books into 4 groups based on their rating. For each group (bucket), show its number (column bucket), the minimal and maximal rating in that bucket.\n",
    "\n",
    "```\n",
    "select \n",
    "\tbucket,\n",
    "    MIN(rating), MAX(rating)\n",
    "from (Select \n",
    "\tid,\n",
    "    rating,\n",
    "    ntile(4) over(order by rating) as bucket\n",
    "from book) x\n",
    "group by bucket\n",
    "order by bucket\n",
    "```"
   ]
  },
  {
   "cell_type": "markdown",
   "metadata": {},
   "source": [
    "For each author show:\n",
    "\n",
    "- author_id.\n",
    "- the number of books published by this author (name the column number_of_books).\n",
    "- the rank of the author based on the number of published books in descending order.\n",
    "\n",
    "```\n",
    "select\n",
    "\tauthor_id,\n",
    "    count(id) as number_of_books,\n",
    "    rank() over(order by count(id) desc)\n",
    "from book\n",
    "group by author_id\n",
    "```"
   ]
  },
  {
   "cell_type": "markdown",
   "metadata": {},
   "source": [
    "For each year in which books were published, show the following columns:\n",
    "\n",
    "publish_year.\n",
    "the number of books published that year.\n",
    "the number of books published in the previous year.\n",
    "\n",
    "```\n",
    "select\n",
    "\tpublish_year,\n",
    "    count(id),\n",
    "    lag(count(id)) over(order by publish_year)\n",
    "from book\n",
    "group by publish_year\n",
    "```"
   ]
  },
  {
   "cell_type": "code",
   "execution_count": null,
   "metadata": {},
   "outputs": [],
   "source": []
  }
 ],
 "metadata": {
  "kernelspec": {
   "display_name": "Python 3",
   "language": "python",
   "name": "python3"
  },
  "language_info": {
   "codemirror_mode": {
    "name": "ipython",
    "version": 3
   },
   "file_extension": ".py",
   "mimetype": "text/x-python",
   "name": "python",
   "nbconvert_exporter": "python",
   "pygments_lexer": "ipython3",
   "version": "3.7.4"
  }
 },
 "nbformat": 4,
 "nbformat_minor": 4
}
