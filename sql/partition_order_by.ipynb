{
 "cells": [
  {
   "cell_type": "markdown",
   "metadata": {},
   "source": [
    "Before we start writing queries with PARTITION BY ORDER BY, let's quickly revise queries with PARTITION BY alone. Take a look:\n",
    "```\n",
    "SELECT\n",
    "  country,\n",
    "  city,\n",
    "  rating,\n",
    "  AVG(rating) OVER(PARTITION BY country)\n",
    "FROM store;\n",
    "```"
   ]
  },
  {
   "cell_type": "markdown",
   "metadata": {},
   "source": [
    "For each sales row, show the store_id, day, revenue on that day and the average revenue in that store.\n",
    "```\n",
    "select \n",
    "\tstore_id, day, revenue,\n",
    "    AVG(revenue) OVER(partition by store_id)\n",
    "from sales;\n",
    "```"
   ]
  },
  {
   "cell_type": "markdown",
   "metadata": {},
   "source": [
    "For each sales row between August 1 and August 7, 2016, show the store_id, day, number of transactions, the total number of transactions on that day in any store and the ratio of the two last columns shown as percentage rounded to integer values.\n",
    "\n",
    "```\n",
    "select \n",
    "\tstore_id, day, transactions,\n",
    "    sum(transactions) over(partition by day),\n",
    "    ROUND(100 * transactions::numeric / sum(transactions) over(partition by day))\n",
    "from sales\n",
    "where day >= '2016-08-01' \n",
    "and day <= '2016-08-07'\n",
    "```"
   ]
  },
  {
   "cell_type": "markdown",
   "metadata": {},
   "source": [
    "Now, we can add PARTITION BY to calculate the positions independently for each country:\n",
    "```\n",
    "SELECT\n",
    "  id,\n",
    "  country,\n",
    "  city,\n",
    "  rating,\n",
    "  RANK() OVER(PARTITION BY country ORDER BY rating DESC)\n",
    "FROM store;\n",
    "```\n",
    "In this way, we create a separate ranking for each country, so Paris and Frankfurt can both get rank = 1 for the separate rankings in France and Germany:"
   ]
  },
  {
   "cell_type": "markdown",
   "metadata": {},
   "source": [
    "Take into account the period between August 10 and August 14, 2016. For each row of sales, show the following information: store_id, day, number of customers and the rank based on the number of customers in the particular store (in descending order).\n",
    "```\n",
    "select\n",
    "\tstore_id,day,customers,\n",
    "    rank() over(partition by store_id order by customers desc)\n",
    "from sales\n",
    "where day >= '2016-08-10' and day <= '2016-09-14'\n",
    "```"
   ]
  },
  {
   "cell_type": "markdown",
   "metadata": {},
   "source": [
    "Good job! Of course, you can use any other ranking function in the same way:\n",
    "```\n",
    "SELECT\n",
    "  id,\n",
    "  country,\n",
    "  city,\n",
    "  rating,\n",
    "  NTILE(2) OVER(PARTITION BY country ORDER BY opening_day)\n",
    "FROM store;\n",
    "```\n",
    "In the above query, the stores are divided into two groups: older and more recent stores. These groups are created separately for each country."
   ]
  },
  {
   "cell_type": "markdown",
   "metadata": {},
   "source": [
    "Take the sales between August 1 and August 10, 2016. For each row, show the store_id, the day, the revenue on that day and quartile number (quartile means we divide the rows into four groups) based on the revenue of the given store in the descending order.\n",
    "```\n",
    "select\n",
    "    store_id,day,revenue,\n",
    "    NTILE(4) over(partition by store_id order by revenue desc)\n",
    "from sales\n",
    "where day >= '2016-08-01' and day <= '2016-08-10'\n",
    "```"
   ]
  },
  {
   "cell_type": "markdown",
   "metadata": {},
   "source": [
    "Alright! Do you remember queries that introduced WITH? We used them to find the row with a certain rank. Now, we can find even more rows with a certain rank, each for a different group. Take a look:\n",
    "```\n",
    "WITH ranking AS (\n",
    "  SELECT\n",
    "    country,\n",
    "    city,\n",
    "    RANK() OVER(PARTITION BY country ORDER BY rating DESC) AS rank\n",
    "  FROM store\n",
    ")\n",
    "\n",
    "SELECT\n",
    "  country,\n",
    "  city\n",
    "FROM ranking\n",
    "WHERE rank = 1;\n",
    "```\n",
    "The CTE in the parentheses creates a separate ranking of stores in each country based on their rating. In the outer query, we simply return the rows with the right rank. As a result, we'll see the best store in each country."
   ]
  },
  {
   "cell_type": "markdown",
   "metadata": {},
   "source": [
    "For each store, show a row with three columns: `store_id`, the `revenue` on the best day in that store in terms of the revenue and the day when that best revenue was achieved.\n",
    "```\n",
    "WITH ranking AS (\n",
    "  SELECT\n",
    "    store_id,\n",
    "    revenue,\n",
    "  \tday,\n",
    "    RANK() OVER(PARTITION BY store_id ORDER BY revenue DESC) AS rank\n",
    "  FROM sales\n",
    ")\n",
    "\n",
    "SELECT store_id, revenue, day\n",
    "FROM ranking\n",
    "WHERE rank = 1;\n",
    "```"
   ]
  },
  {
   "cell_type": "markdown",
   "metadata": {},
   "source": [
    "Let's analyze sales data between August 1 and August 3, 2016. For each row, show store_id, day, transactions and the ranking of the store on that day in terms of the number of transactions as compared to other stores. The store with the greatest number should get 1 from a window function. Use individual row ranks even when two rows share the same value. Name the column place_no.\n",
    "\n",
    "```\n",
    "select\n",
    "\tstore_id,\n",
    "    day,\n",
    "    transactions,\n",
    "    ROW_NUMBER() over(partition by day order by transactions desc) as place_no\n",
    "from sales\n",
    "where day >= '2016-08-01' and day <= '2016-08-03'\n",
    "```"
   ]
  },
  {
   "cell_type": "markdown",
   "metadata": {},
   "source": [
    "For each day of the sales statistics, show the day, the store_id of the best store in terms of the revenue on that day, and that revenue.\n",
    "\n",
    "```\n",
    "with ranking as (select\n",
    "\tday, store_id, revenue,\n",
    "    RANK() over(partition by day order by revenue desc)\n",
    "from sales)\n",
    "\n",
    "select day, store_id, revenue from ranking where rank = 1;\n",
    "```"
   ]
  },
  {
   "cell_type": "markdown",
   "metadata": {},
   "source": [
    "Divide the sales results for each store into four groups based on the number of transactions and for each store, show the rows in the group with the lowest numbers of transactions: store_id, day, transactions.\n",
    "```\n",
    "with ranking as (select\n",
    "\tstore_id, day, transactions,\n",
    "    NTILE(4) over(partition by store_id order by transactions)\n",
    "from sales)\n",
    "\n",
    "select store_id, day, transactions from ranking where ntile = 1; \n",
    "```"
   ]
  },
  {
   "cell_type": "markdown",
   "metadata": {},
   "source": [
    "Alright! Let's move on. In part 5, you got to know window frames. Can we use them together with PARTITION BY to create even more sophisticated windows? Of course we can. Take a look:\n",
    "```\n",
    "SELECT\n",
    "  id,\n",
    "  country,\n",
    "  city,\n",
    "  opening_day,\n",
    "  rating,\n",
    "  MAX(rating) OVER(\n",
    "    PARTITION BY country\n",
    "    ORDER BY opening_day\n",
    "    ROWS BETWEEN UNBOUNDED PRECEDING AND CURRENT ROW)\n",
    "FROM store;\n",
    "```\n",
    "In the above example, we show some information about each store and the maximal rating of any store opened up to that date (that's where we need a window frame) in the respective country (that's where we need PARTITION BY)."
   ]
  },
  {
   "cell_type": "markdown",
   "metadata": {},
   "source": [
    "Show sales statistics between August 1 and August 7, 2016. For each row, show store_id, day, revenue and the best revenue in the respective store up to that date.\n",
    "```\n",
    "select\n",
    "\tstore_id, day, revenue,\n",
    "    MAX(revenue) over(partition by store_id order by day rows between unbounded preceding and current row)\n",
    "from sales\n",
    "where day >= '2016-08-01' \n",
    "and day <= '2016-08-07'\n",
    "```"
   ]
  },
  {
   "cell_type": "markdown",
   "metadata": {},
   "source": [
    "Take sales from the period between August 1 and August 10, 2016. For each row, show the following information: store_id, day, number of transactions and the average number of transactions in the respective store in the window frame starting 2 days before and ending 2 days later with respect to the current row.\n",
    "```\n",
    "select\n",
    "\tstore_id, day, transactions,\n",
    "    AVG(transactions) over(partition by store_id order by day rows between 2 preceding and 2 following)\n",
    "from sales\n",
    "where day >= '2016-08-01' \n",
    "and day <= '2016-08-10'\n",
    "```"
   ]
  },
  {
   "cell_type": "markdown",
   "metadata": {},
   "source": [
    "For each sales row, show the following information: store_id, day, revenue and the future cash flow receivable by the headquarters (i.e. the total revenue in that store, counted from the current day until the last day in our table).\n",
    "```\n",
    "select\n",
    "\tstore_id, day, revenue,\n",
    "    sum(revenue) over(partition by store_id order by day ROWS BETWEEN CURRENT ROW AND UNBOUNDED FOLLOWING)\n",
    "from sales\n",
    "```"
   ]
  },
  {
   "cell_type": "markdown",
   "metadata": {},
   "source": [
    "Now, let's talk about the use of analytical functions with PARTITION BY ORDER BY. Take a look at the following example:\n",
    "```\n",
    "SELECT\n",
    "  country,\n",
    "  city,\n",
    "  opening_day,\n",
    "  LEAD(city, 1, 'NaN') OVER(PARTITION BY country ORDER BY opening_day)\n",
    "FROM store;\n",
    "```\n",
    "In the above example, we show the country, city and opening_day of each store, but we also show the city where the next store was opened – in the same country, of course."
   ]
  },
  {
   "cell_type": "markdown",
   "metadata": {},
   "source": [
    "For each store, show the sales in the period between August 5, 2016 and August 10, 2016: store_id, day, number of transactions, number of transactions on the previous day and the difference between these two values.\n",
    "```\n",
    "SELECT\n",
    "  store_id,\n",
    "  day,\n",
    "  transactions,\n",
    "  lag(transactions) OVER(PARTITION BY store_id ORDER BY day),\n",
    "  transactions - LEAD(transactions, 1) OVER(PARTITION BY store_id ORDER BY day desc)\n",
    "FROM sales\n",
    "where day >= '2016-08-05' \n",
    "and day <= '2016-08-10'\n",
    ";\n",
    "```"
   ]
  },
  {
   "cell_type": "markdown",
   "metadata": {},
   "source": [
    "Good job! Of course, other analytical functions are possible as well. Let's analyze another example:\n",
    "```\n",
    "SELECT\n",
    "  country,\n",
    "  city,\n",
    "  rating,\n",
    "  FIRST_VALUE(city) OVER(PARTITION BY country ORDER BY rating DESC)\n",
    "FROM store;\n",
    "```\n",
    "In the above query, we're showing each store individually, but we also show the name of the city with the highest rating in that particular country. Note that this would be impossible without PARTITION BY – we couldn't get individual city names for each country separately."
   ]
  },
  {
   "cell_type": "markdown",
   "metadata": {},
   "source": [
    "Show sales figures in the period between August 1 and August 3: for each store, show the store_id, the day, the revenue and the date with the best revenue in that period as best_revenue_day.\n",
    "```\n",
    "select \n",
    "\tstore_id, day, revenue,\n",
    "    FIRST_VALUE(day) over(partition by store_id order by revenue desc) as best_revenue_day\n",
    "FROM sales\n",
    "where day >= '2016-08-01' \n",
    "and day <= '2016-08-03'\n",
    "```"
   ]
  },
  {
   "cell_type": "markdown",
   "metadata": {},
   "source": [
    "For each row of the sales figures, show the following information: store_id, day, revenue, revenue a week before and the ratio of revenue today to the revenue a week before expressed in percentage with 2 decimal places.\n",
    "```\n",
    "select\n",
    "\tstore_id, day, revenue,\n",
    "    lag(revenue, 7) over(partition by store_id order by day rows between unbounded preceding and current row),\n",
    "    ROUND(100 * revenue::numeric / lag(revenue, 7) over(partition by store_id order by day rows between unbounded preceding and current row), 2)\n",
    "from sales\n",
    "```"
   ]
  },
  {
   "cell_type": "markdown",
   "metadata": {},
   "source": [
    "For each row, show the following columns: store_id, day, customers and the number of clients in the 5th greatest store in terms of the number of customers on that day.\n",
    "```\n",
    "select\n",
    "\tstore_id, day, customers,\n",
    "    NTH_VALUE(customers, 5) over(partition by day order by customers desc ROWS BETWEEN UNBOUNDED PRECEDING AND UNBOUNDED FOLLOWING)\n",
    "from sales\n",
    "```"
   ]
  },
  {
   "cell_type": "markdown",
   "metadata": {},
   "source": [
    "For each day, show the following two columns: day and the name of the second most frequently repaired phone on that day. Only take into account free_repairs.\n",
    "```\n",
    "with ranking as (select\n",
    "\tday,\n",
    "    phone,\n",
    "    rank() over(partition by day order by free_repairs desc ROWS BETWEEN UNBOUNDED PRECEDING AND UNBOUNDED FOLLOWING)\n",
    "from repairs)\n",
    "\n",
    "select day, phone from ranking where rank = 2\n",
    "```"
   ]
  },
  {
   "cell_type": "markdown",
   "metadata": {},
   "source": [
    "For each phone, show the following information: phone, day, revenue and the revenue for the first repair for each phone (column name first_revenue)\n",
    "```\n",
    "select\n",
    "\tphone, day, revenue,\n",
    "    nth_value(revenue, 1) over(partition by phone order by day ROWS BETWEEN UNBOUNDED PRECEDING AND UNBOUNDED FOLLOWING) as first_revenue\n",
    "from repairs\n",
    "```"
   ]
  },
  {
   "cell_type": "markdown",
   "metadata": {},
   "source": [
    "For each phone, show the following information: phone, day, the number of paid repairs, the number of paid repairs on the previous day and the difference between these two values.\n",
    "```\n",
    "select\n",
    "\tphone, day, paid_repairs,\n",
    "    lag(paid_repairs, 1) over(partition by phone order by day ROWS BETWEEN UNBOUNDED PRECEDING AND UNBOUNDED FOLLOWING),\n",
    "    paid_repairs - lag(paid_repairs, 1) over(partition by phone order by day ROWS BETWEEN UNBOUNDED PRECEDING AND UNBOUNDED FOLLOWING)\n",
    "from repairs\n",
    "```"
   ]
  },
  {
   "cell_type": "code",
   "execution_count": null,
   "metadata": {},
   "outputs": [],
   "source": []
  }
 ],
 "metadata": {
  "kernelspec": {
   "display_name": "Python 3",
   "language": "python",
   "name": "python3"
  },
  "language_info": {
   "codemirror_mode": {
    "name": "ipython",
    "version": 3
   },
   "file_extension": ".py",
   "mimetype": "text/x-python",
   "name": "python",
   "nbconvert_exporter": "python",
   "pygments_lexer": "ipython3",
   "version": "3.7.4"
  }
 },
 "nbformat": 4,
 "nbformat_minor": 4
}
