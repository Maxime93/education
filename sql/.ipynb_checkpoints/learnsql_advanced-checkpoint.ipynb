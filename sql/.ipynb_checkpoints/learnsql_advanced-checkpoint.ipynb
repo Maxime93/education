{
 "cells": [
  {
   "cell_type": "markdown",
   "metadata": {},
   "source": [
    "## SQL Advanced\n",
    "https://learnsql.com/track/advanced-sql-in-postgresql/course/postgresql-window-functions/window-frame/rows/confusion"
   ]
  },
  {
   "cell_type": "markdown",
   "metadata": {},
   "source": [
    "### Window Frame"
   ]
  },
  {
   "cell_type": "markdown",
   "metadata": {},
   "source": [
    "\n",
    "For each order, show its id, the placed date, and the third column which will count the number of orders up to the current order when sorted by the placed date.\n",
    "```\n",
    "select\n",
    "\tid,\n",
    "    placed,\n",
    "    count(id) over(order by placed rows between unbounded preceding and current row)\n",
    "from single_order\n",
    "```"
   ]
  },
  {
   "cell_type": "markdown",
   "metadata": {},
   "source": [
    "Warehouse workers always need to pick the products for orders by hand and one by one. For positions with order_id = 5, calculate the remaining sum of all the products to pick. For each position from that order, show its id, the id of the product, the quantity and the quantity of the remaining items (including the current row) when sorted by the id in the ascending order.\n",
    "```\n",
    "select\n",
    "\tid,\n",
    "    product_id,\n",
    "    quantity,\n",
    "    sum(quantity) over(rows between current row and unbounded following)\n",
    "from order_position\n",
    "where order_id = 5\n",
    "order by id asc\n",
    "```"
   ]
  },
  {
   "cell_type": "markdown",
   "metadata": {},
   "source": [
    "For each product, show its id, name, introduced date and the count of products introduced up to that point.\n",
    "```\n",
    "select\n",
    "\tid, name, introduced,\n",
    "    count(id) over(order by introduced rows between unbounded preceding and current row)\n",
    "from product\n",
    "```"
   ]
  },
  {
   "cell_type": "markdown",
   "metadata": {},
   "source": [
    "Now, for each single_order, show its placed date, total_price, the average price calculated by taking 2 previous orders, the current order and 2 following orders (in terms of the placed date) and the ratio of the total_price to the average price calculated as before.\n",
    "```\n",
    "select \n",
    "\tplaced, total_price,\n",
    "    avg(total_price) over(order by placed rows between 2 preceding and 2 following),\n",
    "    total_price::numeric / avg(total_price::numeric) over(order by placed rows between 2 preceding and 2 following)\n",
    "from single_order\n",
    "```"
   ]
  },
  {
   "cell_type": "markdown",
   "metadata": {},
   "source": [
    "You will now have a chance to practice abbreviations. Pick those stock changes which refer to product_id = 3. For each of them, show the id, changed date, quantity, and the running total, indicating the current stock status. Sort the rows by the changed date in the ascending order.\n",
    "```\n",
    "select\n",
    "\tid, changed, quantity,\n",
    "    sum(quantity) over(order by changed rows unbounded preceding)\n",
    "from stock_change\n",
    "where product_id = 3;\n",
    "```"
   ]
  },
  {
   "cell_type": "markdown",
   "metadata": {},
   "source": [
    "##### Abbreviations:\n",
    "- ROWS UNBOUNDED PRECEDING means BETWEEN UNBOUNDED PRECEDING AND CURRENT ROW\n",
    "- ROWS n PRECEDING means BETWEEN n PRECEDING AND CURRENT ROW\n",
    "- ROWS CURRENT ROW means BETWEEN CURRENT ROW AND CURRENT ROW"
   ]
  },
  {
   "cell_type": "markdown",
   "metadata": {},
   "source": [
    "For each single_order, show its placed date, total_price and the average price from the current single_order and three previous orders (in terms of the placed date).\n",
    "```\n",
    "select\n",
    "\tplaced, total_price,\n",
    "    avg(total_price) over(order by placed rows 3 preceding)\n",
    "from single_order\n",
    "```"
   ]
  },
  {
   "cell_type": "markdown",
   "metadata": {},
   "source": [
    "Modify the example so that it shows the average total_price for single days for each row.\n",
    "```\n",
    "SELECT\n",
    "  id,\n",
    "  placed,\n",
    "  total_price,\n",
    "  AVG(total_price) OVER(ORDER BY placed range current row)\n",
    "FROM single_order;\n",
    "```"
   ]
  },
  {
   "cell_type": "markdown",
   "metadata": {},
   "source": []
  }
 ],
 "metadata": {
  "kernelspec": {
   "display_name": "Python 3",
   "language": "python",
   "name": "python3"
  },
  "language_info": {
   "codemirror_mode": {
    "name": "ipython",
    "version": 3
   },
   "file_extension": ".py",
   "mimetype": "text/x-python",
   "name": "python",
   "nbconvert_exporter": "python",
   "pygments_lexer": "ipython3",
   "version": "3.7.4"
  }
 },
 "nbformat": 4,
 "nbformat_minor": 4
}
