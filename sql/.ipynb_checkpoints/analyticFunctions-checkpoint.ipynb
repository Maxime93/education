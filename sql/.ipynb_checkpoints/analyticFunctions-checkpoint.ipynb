{
 "cells": [
  {
   "cell_type": "markdown",
   "metadata": {},
   "source": [
    "Alright. Take a look at the very first example:\n",
    "```\n",
    "SELECT\n",
    "  name, \n",
    "  opened,\n",
    "  LEAD(name) OVER(ORDER BY opened)\n",
    "FROM website;\n",
    "```\n",
    "The analytic function here is `LEAD(name)`. `LEAD` with a single argument in the parentheses looks at the next row in the given order and shows the value in the column specified as the argument."
   ]
  },
  {
   "cell_type": "markdown",
   "metadata": {},
   "source": [
    "For all the statistics of the website with id = 1, show the day, the number of users and the number of users on the next day.\n",
    "```\n",
    "select\n",
    "\tday, users,\n",
    "    LEAD(users) over(order by day)\n",
    "from statistics\n",
    "where website_id = 1\n",
    "```"
   ]
  },
  {
   "cell_type": "markdown",
   "metadata": {},
   "source": [
    "`LEAD` can be extremely useful when we want to calculate deltas, i.e. differences between two values. A typical example may look like this:\n",
    "```\n",
    "SELECT\n",
    "  day,\n",
    "  clicks,\n",
    "  LEAD(clicks) OVER(ORDER BY day),\n",
    "  clicks - LEAD(clicks) OVER(ORDER BY day) \n",
    "FROM statistics\n",
    "WHERE website_id = 2;\n",
    "```\n",
    "The above query calculates day-to-day deltas: the last column shows the difference in clicks between the current day and the next day. From a business point of view, this could easily tell us a lot about the website: if the deltas for many rows are positive, and possibly increasing, then the website is expanding. If, in turn, the deltas are mostly negative, we can start to worry about the performance of the website."
   ]
  },
  {
   "cell_type": "code",
   "execution_count": null,
   "metadata": {},
   "outputs": [],
   "source": []
  }
 ],
 "metadata": {
  "kernelspec": {
   "display_name": "Python 3",
   "language": "python",
   "name": "python3"
  },
  "language_info": {
   "codemirror_mode": {
    "name": "ipython",
    "version": 3
   },
   "file_extension": ".py",
   "mimetype": "text/x-python",
   "name": "python",
   "nbconvert_exporter": "python",
   "pygments_lexer": "ipython3",
   "version": "3.7.4"
  }
 },
 "nbformat": 4,
 "nbformat_minor": 4
}
