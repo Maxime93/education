{
 "cells": [
  {
   "cell_type": "markdown",
   "metadata": {},
   "source": [
    "## SQL Advanced\n",
    "https://learnsql.com/track/advanced-sql-in-postgresql/course/postgresql-window-functions/window-frame/rows/confusion"
   ]
  },
  {
   "cell_type": "markdown",
   "metadata": {},
   "source": [
    "### Window Frame"
   ]
  },
  {
   "cell_type": "markdown",
   "metadata": {},
   "source": [
    "\n",
    "For each order, show its id, the placed date, and the third column which will count the number of orders up to the current order when sorted by the placed date.\n",
    "```\n",
    "select\n",
    "\tid,\n",
    "    placed,\n",
    "    count(id) over(order by placed rows between unbounded preceding and current row)\n",
    "from single_order\n",
    "```"
   ]
  },
  {
   "cell_type": "markdown",
   "metadata": {},
   "source": [
    "Warehouse workers always need to pick the products for orders by hand and one by one. For positions with order_id = 5, calculate the remaining sum of all the products to pick. For each position from that order, show its id, the id of the product, the quantity and the quantity of the remaining items (including the current row) when sorted by the id in the ascending order.\n",
    "```\n",
    "select\n",
    "\tid,\n",
    "    product_id,\n",
    "    quantity,\n",
    "    sum(quantity) over(rows between current row and unbounded following)\n",
    "from order_position\n",
    "where order_id = 5\n",
    "order by id asc\n",
    "```"
   ]
  },
  {
   "cell_type": "markdown",
   "metadata": {},
   "source": [
    "For each product, show its id, name, introduced date and the count of products introduced up to that point.\n",
    "```\n",
    "select\n",
    "\tid, name, introduced,\n",
    "    count(id) over(order by introduced rows between unbounded preceding and current row)\n",
    "from product\n",
    "```"
   ]
  },
  {
   "cell_type": "markdown",
   "metadata": {},
   "source": [
    "Now, for each single_order, show its placed date, total_price, the average price calculated by taking 2 previous orders, the current order and 2 following orders (in terms of the placed date) and the ratio of the total_price to the average price calculated as before.\n",
    "```\n",
    "select \n",
    "\tplaced, total_price,\n",
    "    avg(total_price) over(order by placed rows between 2 preceding and 2 following),\n",
    "    total_price::numeric / avg(total_price::numeric) over(order by placed rows between 2 preceding and 2 following)\n",
    "from single_order\n",
    "```"
   ]
  },
  {
   "cell_type": "markdown",
   "metadata": {},
   "source": [
    "You will now have a chance to practice abbreviations. Pick those stock changes which refer to product_id = 3. For each of them, show the id, changed date, quantity, and the running total, indicating the current stock status. Sort the rows by the changed date in the ascending order.\n",
    "```\n",
    "select\n",
    "\tid, changed, quantity,\n",
    "    sum(quantity) over(order by changed rows unbounded preceding)\n",
    "from stock_change\n",
    "where product_id = 3;\n",
    "```"
   ]
  },
  {
   "cell_type": "markdown",
   "metadata": {},
   "source": [
    "##### Abbreviations:\n",
    "- ROWS UNBOUNDED PRECEDING means BETWEEN UNBOUNDED PRECEDING AND CURRENT ROW\n",
    "- ROWS n PRECEDING means BETWEEN n PRECEDING AND CURRENT ROW\n",
    "- ROWS CURRENT ROW means BETWEEN CURRENT ROW AND CURRENT ROW"
   ]
  },
  {
   "cell_type": "markdown",
   "metadata": {},
   "source": [
    "For each single_order, show its placed date, total_price and the average price from the current single_order and three previous orders (in terms of the placed date).\n",
    "```\n",
    "select\n",
    "\tplaced, total_price,\n",
    "    avg(total_price) over(order by placed rows 3 preceding)\n",
    "from single_order\n",
    "```"
   ]
  },
  {
   "cell_type": "markdown",
   "metadata": {},
   "source": [
    "Modify the example so that it shows the average total_price for single days for each row.\n",
    "```\n",
    "SELECT\n",
    "  id,\n",
    "  placed,\n",
    "  total_price,\n",
    "  AVG(total_price) OVER(ORDER BY placed range current row)\n",
    "FROM single_order;\n",
    "```"
   ]
  },
  {
   "cell_type": "markdown",
   "metadata": {},
   "source": [
    "The difference between `ROWS` and `RANGE` is similar to the difference between the ranking functions `ROW_NUMBER` and `RANK()`\n",
    "\n",
    "The query with `ROWS` sums the total_price for all rows which have their `ROW_NUMBER` less than or equal to the row number of the current row.\n",
    "```\n",
    "SELECT\n",
    "  id,\n",
    "  placed,\n",
    "  total_price,\n",
    "  ROW_NUMBER() OVER(ORDER BY placed),\n",
    "  SUM(total_price) OVER(\n",
    "    ORDER BY placed\n",
    "    ROWS UNBOUNDED PRECEDING)\n",
    "FROM single_order\n",
    "```\n",
    "The query with `RANGE` sums the total_price for all rows which have their `RANK()` less than or equal to the rank of the current row.\n",
    "```\n",
    "SELECT\n",
    "  id,\n",
    "  placed,\n",
    "  total_price,\n",
    "  RANK() OVER(ORDER BY placed),\n",
    "  SUM(total_price) OVER(\n",
    "    ORDER BY placed\n",
    "    RANGE UNBOUNDED PRECEDING)\n",
    "FROM single_order\n",
    "```"
   ]
  },
  {
   "cell_type": "markdown",
   "metadata": {},
   "source": [
    "For each stock_change with product_id = 7, show its id, quantity, changed date and another column to count the number of stock changes with product_id = 7 on that particular date.\n",
    "```\n",
    "select \n",
    "\tid, quantity, changed,\n",
    "    count(id) over(order by changed range current row)\n",
    "from stock_change\n",
    "where product_id = 7\n",
    "```"
   ]
  },
  {
   "cell_type": "markdown",
   "metadata": {},
   "source": [
    "For each stock_change, show id, product_id, quantity, changed date, and the total quantity change from all stock_change for that product.\n",
    "```\n",
    "select\n",
    "\tid, product_id, quantity, changed,\n",
    "    sum(quantity) over(order by product_id range current row)\n",
    "from stock_change\n",
    "```"
   ]
  },
  {
   "cell_type": "markdown",
   "metadata": {},
   "source": [
    "For each stock_change, show its id, changed date, and the number of any stock changes that took place on the same day or any time earlier.\n",
    "```\n",
    "select\n",
    "\tid, changed,\n",
    "    count(id) over(order by changed range unbounded preceding)\n",
    "from stock_change\n",
    "```"
   ]
  },
  {
   "cell_type": "markdown",
   "metadata": {},
   "source": [
    "Our finance department needs to calculate future cashflows for each date. Let's help them. In order to do that, we need to show each order: its id, placed date, total_price and the total sum of all prices of orders from the very same day or any later date.\n",
    "```\n",
    "select\n",
    "\tid, placed, total_price,\n",
    "    sum(total_price) over(order by placed range between current row and unbounded following)\n",
    "from single_order\n",
    "```"
   ]
  },
  {
   "cell_type": "markdown",
   "metadata": {},
   "source": [
    "Perfect! You may wonder what the default window frame is when it's not explicitly specified. This may differ between databases, but the most typical rule is as follows:\n",
    "\n",
    "If you don't specify an `ORDER BY` clause within `OVER(...)`, the whole partition of rows will be used as the window frame.\n",
    "\n",
    "If you do specify an `ORDER BY` clause within `OVER(...)`, the database will assume `RANGE UNBOUNDED PRECEDING` as the window frame. Let's check both of these cases in exercises.\n",
    "\n",
    "Exercise\n",
    "We'll start with not specifying an `ORDER BY` clause within `OVER(...)`.\n",
    "\n",
    "For each single order, show its id, date when it was placed, the total price and the sum of all total prices.\n",
    "\n",
    "Note that the `SUM` computes the sum of all prices in the table, even though you did not specify the window frame.\n",
    "\n",
    "```\n",
    "select\n",
    "\tid, placed, total_price,\n",
    "    sum(total_price) over()\n",
    "from single_order\n",
    "```"
   ]
  },
  {
   "cell_type": "markdown",
   "metadata": {},
   "source": [
    "Alright! When there is no `ORDER BY` clause in `OVER(...)`, the query simply treats all rows as the window frame for each row. Nothing shocking, really – that's the kind of queries we wrote in previous parts.\n",
    "\n",
    "Now, we said the following: if there is an `ORDER BY` clause, `RANGE UNBOUNDED PRECEDING` will be used as the default window frame. Let's find out if it's true.\n",
    "\n",
    "Exercise\n",
    "Just as in one of the previous exercises, we'll be looking for the running sum of single orders. For each order, show its id, placed date, total_price and the sum of all total prices. Sort the orders by the placed date, but do not specify any window frame.\n",
    "\n",
    "The sum of total_prices should be calculated as if you wrote `RANGE UNBOUNDED PRECEDING`.\n",
    "```\n",
    "select\n",
    "\tid, placed, total_price,\n",
    "    sum(total_price) over(order by placed)\n",
    "from single_order\n",
    "```"
   ]
  },
  {
   "cell_type": "markdown",
   "metadata": {},
   "source": [
    "Alright! It's time to review what we've learned in this part:\n",
    "\n",
    "- You can define a window frame within `OVER(...)`. The syntax is: `[ROWS|RANGE] <window frame definition>`.\n",
    "- `ROWS` always treats rows individually (like the `ROW_NUMBER()` function), `RANGE` also adds rows which share the same value in the column we order by (like the `RANK()` function).\n",
    "- `<window frame definition>` is defined with `BETWEEN <lower bound> AND <upper bound>`, where the bounds may be defined with:\n",
    "    - `UNBOUNDED PRECEDING`,\n",
    "    - `n PRECEDING` (`ROWS` only),\n",
    "    - `CURRENT ROW`,\n",
    "    - `n FOLLOWING` (`ROWS` only),\n",
    "    - `UNBOUNDED` FOLLOWING\n",
    "\n",
    "\n",
    "So, are you ready for a short quiz?"
   ]
  },
  {
   "cell_type": "markdown",
   "metadata": {},
   "source": [
    "For each row from department with id = 2, show its department_id, year, amount and the total amount from the current year + two previous years.\n",
    "```\n",
    "select\n",
    "\tdepartment_id, year, amount,\n",
    "    sum(amount) over(order by year rows between 2 preceding and current row)\n",
    "from revenue\n",
    "where department_id = 2\n",
    "```"
   ]
  },
  {
   "cell_type": "markdown",
   "metadata": {},
   "source": [
    "For each row from department with id = 1, show its department_id, year, amount and the running average amount from all rows up to the current rows, sorted by the year.\n",
    "```\n",
    "select\n",
    "\tdepartment_id, year, amount,\n",
    "    avg(amount) over(order by year rows unbounded preceding)\n",
    "from revenue\n",
    "where department_id = 1\n",
    "```"
   ]
  },
  {
   "cell_type": "markdown",
   "metadata": {},
   "source": [
    "For each row sorted by the year, show its department_id, year, amount, the average amount from all departments in the given year and the difference between the amount and the average amount.\n",
    "```\n",
    "select \n",
    "\tdepartment_id, year, amount,\n",
    "    avg(amount) over(order by year range current row),\n",
    "    amount - avg(amount) over(order by year range current row)\n",
    "from revenue\n",
    "```"
   ]
  },
  {
   "cell_type": "code",
   "execution_count": null,
   "metadata": {},
   "outputs": [],
   "source": []
  }
 ],
 "metadata": {
  "kernelspec": {
   "display_name": "Python 3",
   "language": "python",
   "name": "python3"
  },
  "language_info": {
   "codemirror_mode": {
    "name": "ipython",
    "version": 3
   },
   "file_extension": ".py",
   "mimetype": "text/x-python",
   "name": "python",
   "nbconvert_exporter": "python",
   "pygments_lexer": "ipython3",
   "version": "3.7.4"
  }
 },
 "nbformat": 4,
 "nbformat_minor": 4
}
