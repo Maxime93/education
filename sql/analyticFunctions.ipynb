{
 "cells": [
  {
   "cell_type": "markdown",
   "metadata": {},
   "source": [
    "Alright. Take a look at the very first example:\n",
    "```\n",
    "SELECT\n",
    "  name, \n",
    "  opened,\n",
    "  LEAD(name) OVER(ORDER BY opened)\n",
    "FROM website;\n",
    "```\n",
    "The analytic function here is `LEAD(name)`. `LEAD` with a single argument in the parentheses looks at the next row in the given order and shows the value in the column specified as the argument."
   ]
  },
  {
   "cell_type": "markdown",
   "metadata": {},
   "source": [
    "For all the statistics of the website with id = 1, show the day, the number of users and the number of users on the next day.\n",
    "```\n",
    "select\n",
    "\tday, users,\n",
    "    LEAD(users) over(order by day)\n",
    "from statistics\n",
    "where website_id = 1\n",
    "```"
   ]
  },
  {
   "cell_type": "markdown",
   "metadata": {},
   "source": [
    "`LEAD` can be extremely useful when we want to calculate deltas, i.e. differences between two values. A typical example may look like this:\n",
    "```\n",
    "SELECT\n",
    "  day,\n",
    "  clicks,\n",
    "  LEAD(clicks) OVER(ORDER BY day),\n",
    "  clicks - LEAD(clicks) OVER(ORDER BY day) \n",
    "FROM statistics\n",
    "WHERE website_id = 2;\n",
    "```\n",
    "The above query calculates day-to-day deltas: the last column shows the difference in clicks between the current day and the next day. From a business point of view, this could easily tell us a lot about the website: if the deltas for many rows are positive, and possibly increasing, then the website is expanding. If, in turn, the deltas are mostly negative, we can start to worry about the performance of the website."
   ]
  },
  {
   "cell_type": "markdown",
   "metadata": {},
   "source": [
    "For `website_id = 1`, show each statistics row: day, revenue, revenue on the next day and the difference between these two values.\n",
    "```\n",
    "select\n",
    "\tday, revenue,\n",
    "    LEAD(revenue) over(order by day),\n",
    "    revenue - LEAD(revenue) over(order by day)\n",
    "from statistics\n",
    "where website_id = 1\n",
    "```"
   ]
  },
  {
   "cell_type": "markdown",
   "metadata": {},
   "source": [
    "Fantastic! There is also another version of `LEAD`. It takes two arguments: `LEAD(x,y)`. `x` remains the same – it specifies the column to return. `y`, in turn, is a number which defines the number of rows forward from the current value. For instance:\n",
    "```\n",
    "SELECT\n",
    "  name,\n",
    "  opened,\n",
    "  LEAD(opened,2) OVER(ORDER BY opened)\n",
    "FROM website;\n",
    "```\n",
    "This form of `LEAD` won't show the webpage with the opening date coming immediately after the current opening date. Instead, it will show the opening date 2 rows forward – the 1st row will show the 3rd date, etc."
   ]
  },
  {
   "cell_type": "markdown",
   "metadata": {},
   "source": [
    "Take the statistics for the website with `id = 2` between 1 and 14 May 2016 and show the day, the number of users and the number of users 7 days later.\n",
    "\n",
    "Note that the last 7 rows don't have a value in the last column, because no rows '7 days from now' can be found for them.\n",
    "```\n",
    "select\n",
    "\tday, users,\n",
    "    LEAD(users, 7) over(order by day)\n",
    "from statistics\n",
    "where website_id = 2\n",
    "and day >= '2016-05-01' and day <= '2016-05-14'\n",
    "```"
   ]
  },
  {
   "cell_type": "markdown",
   "metadata": {},
   "source": [
    "The last possible type of `LEAD` takes three arguments:\n",
    "```\n",
    "SELECT\n",
    "  name,\n",
    "  opened,\n",
    "  LEAD(opened,2,'2000-01-01') OVER(ORDER BY opened)\n",
    "FROM website;\n",
    "```\n",
    "The new (last) argument tells the function what it should return if no matching value is found. Previously, the last rows got NULLs from the function, because there were no \"lead\" (further) rows for them. Now, you can specify what should be displayed in such cases instead of the default NULL. Here, we show '2000-01-01'. Note that this value must be of the same type as the column itself: if you show dates with LEAD, the last argument must be a date too. You can't show \"not available\" or 0 instead."
   ]
  },
  {
   "cell_type": "markdown",
   "metadata": {},
   "source": [
    "Of course, there's also a function that shows a previous value, and its name is `LAG(x)`:\n",
    "```\n",
    "SELECT\n",
    "  name,\n",
    "  opened,\n",
    "  LAG(name) OVER(ORDER BY opened)\n",
    "FROM website;\n",
    "```\n",
    "Now, instead of showing the next opening date, we show the previous opening date"
   ]
  },
  {
   "cell_type": "markdown",
   "metadata": {},
   "source": [
    "Show the statistics for the website with `id = 3`: day, number of clicks that day and the number of clicks on the previous day.\n",
    "\n",
    "Note that there won't be any previous value for the first row.\n",
    "```\n",
    "select\n",
    "\tday, clicks, \n",
    "    LAG(clicks) over(order by day)\n",
    "from statistics\n",
    "where website_id = 3\n",
    "```"
   ]
  },
  {
   "cell_type": "markdown",
   "metadata": {},
   "source": [
    "`RPM` (revenue per thousand impressions) is defined as the revenue divided by the number of impressions, times 1000.\n",
    "```\n",
    "RPM = (revenue / number of impressions) * 1000\n",
    "```\n",
    "For each statistics row with `website_id = 2`, show the day, the RPM and the RPM 7 days later. Rename the columns to `RPM` and `RPM_7`.\n",
    "\n",
    "```\n",
    "select\n",
    "\tday,\n",
    "    (revenue / impressions) * 1000 as RPM,\n",
    "    (LEAD(revenue, 7) over(order by day) / LEAD(impressions, 7) over(order by day)) * 1000 as RPM_7\n",
    "from statistics\n",
    "where website_id = 2\n",
    "```"
   ]
  },
  {
   "cell_type": "markdown",
   "metadata": {},
   "source": [
    "Let's define conversion rate as the number of clicks divided by the number of impressions, multiplied by 100 to obtain percentages.\n",
    "\n",
    "For `website_id = 1` and dates between May 15 and May 31, show each statistics row: `day`, `clicks`, `impressions`, conversion rate (as the `conversion` column) and the conversion rate on the previous day (as the previous_conversion column).\n",
    "```\n",
    "select\n",
    "\tday, clicks, impressions,\n",
    "    (clicks::numeric / impressions) * 100 as conversion,\n",
    "    (LAG(clicks::numeric) over(order by day) / LAG(impressions) over(order by day)) * 100 as previous_conversion\n",
    "from statistics\n",
    "where website_id = 1\n",
    "and day >= '2016-05-15' and day <= '2016-05-31'\n",
    "```"
   ]
  },
  {
   "cell_type": "markdown",
   "metadata": {},
   "source": [
    "`LEAD` and `LAG` are 2 functions which are always relative to the current row. Now, we'll get to know three other functions that are independent of the current row.\n",
    "\n",
    "The first one is `FIRST_VALUE(x)`. As you may guess, it returns the first value in the column x in the given order. Take a look:\n",
    "```\n",
    "SELECT\n",
    "  name,\n",
    "  opened,\n",
    "  budget,\n",
    "  FIRST_VALUE(budget) OVER(ORDER BY opened)\n",
    "FROM website;\n",
    "```\n",
    "Here, we still sort rows by the opening date (`ORDER BY opened`), but we show the lowest budget instead of the first opening date (`FIRST_VALUE(budget)`). In this way, we can show the budget for the website that was opened first.\n",
    "\n",
    "Note that this would be impossible to achieve with a simple `MIN(...)` function. `MIN(budget)` would simply show the smallest budget: 500 in this case. That is not the same as the budget of the first website (3000).\n",
    "\n",
    "Show the statistics for `website_id = 2`. For each row, show the day, the number of users and the smallest number of users ever.\n",
    "```\n",
    "select\n",
    "\tday, users,\n",
    "    FIRST_VALUE(users) over(order by users)\n",
    "from statistics\n",
    "where website_id = 2\n",
    "```"
   ]
  },
  {
   "cell_type": "markdown",
   "metadata": {},
   "source": [
    "Show the statistics for `website_id = 3`. For each row, show the day, the revenue and the revenue on the first day.\n",
    "```\n",
    "select \n",
    "\tday, revenue,\n",
    "    first_value(revenue) over(order by day)\n",
    "from statistics\n",
    "where website_id = 3\n",
    "```"
   ]
  },
  {
   "cell_type": "markdown",
   "metadata": {},
   "source": [
    "If there is an `ORDER BY` clause, `RANGE UNBOUNDED PRECEDING` will be used as the default window frame.\n",
    "\n",
    "And this is precisely the cause of our troubles. We indeed used `ORDER BY` within `OVER(...)`, which is why `LAST_VALUE(x)` only considers the rows from the first row until the current row. The solution is quite simple: we need to define the right window frame:\n",
    "```\n",
    "SELECT\n",
    "  name,\n",
    "  opened,\n",
    "  LAST_VALUE(opened) OVER(\n",
    "    ORDER BY opened\n",
    "    ROWS BETWEEN UNBOUNDED PRECEDING\n",
    "      AND UNBOUNDED FOLLOWING)\n",
    "FROM website;\n",
    "```"
   ]
  },
  {
   "cell_type": "markdown",
   "metadata": {},
   "source": [
    "Here's one thing you should remember: while `FIRST_VALUE` works well with the default window frame, `LAST_VALUE` needs an explicit definition of the right window frame to actually make sense.\n",
    "\n",
    "Of course, you can order by one column and return the other:\n",
    "```\n",
    "SELECT\n",
    "  name,\n",
    "  budget,\n",
    "  LAST_VALUE(budget) OVER(\n",
    "    ORDER BY opened\n",
    "    ROWS BETWEEN UNBOUNDED PRECEDING\n",
    "      AND UNBOUNDED FOLLOWING)\n",
    "FROM website;\n",
    "```\n",
    "Here we show the budget of the most recent website (not the greatest budget).\n",
    "\n",
    "Show the statistics for `website_id = 1`. For each row, show the day, the number of impressions and the number of impressions on the day with the most users.\n",
    "```\n",
    "select \n",
    "\tday, impressions,\n",
    "    LAST_VALUE(impressions) over(order by users rows between unbounded preceding and unbounded following)\n",
    "from statistics\n",
    "where website_id = 1\n",
    "```"
   ]
  },
  {
   "cell_type": "markdown",
   "metadata": {},
   "source": [
    "For each statistics rows with `website_id = 1`, show the day, the number of users, the number of users on the last day and the difference between these two values.\n",
    "```\n",
    "select\n",
    "\tday, users,\n",
    "    LAST_VALUE(users) over(order by day rows between unbounded preceding and unbounded following),\n",
    "    users - LAST_VALUE(users) over(order by day rows between unbounded preceding and unbounded following)\n",
    "from statistics\n",
    "where website_id = 1\n",
    "```"
   ]
  },
  {
   "cell_type": "markdown",
   "metadata": {},
   "source": [
    "The last function we'll learn in this part is: `NTH_VALUE(x,n)`. This function returns the value in the column x of the nth row in the given order.\n",
    "```\n",
    "SELECT\n",
    "  name,\n",
    "  opened,\n",
    "  NTH_VALUE(opened, 2) OVER(\n",
    "    ORDER BY opened\n",
    "    ROWS BETWEEN UNBOUNDED PRECEDING\n",
    "      AND UNBOUNDED FOLLOWING)\n",
    "FROM website;\n",
    "```\n",
    "This time, we're showing the opening date of the current row together with the second row when sorted by the opening date. With NTH_VALUE, we also need to redefine the window frame. Otherwise, some rows will display incorrect values.\n",
    "\n",
    "Just to remind you, you can always revert the order by adding the word `DESC`, which sometimes comes in handy with `NTH_VALUE`:\n",
    "\n",
    "`...OVER(ORDER BY opened DESC)...`\n",
    "\n",
    "Take the statistics for the website with id = 2 between May 15 and May 31, 2016. Show the day, the revenue on that day and the third highest revenue in that period.\n",
    "\n",
    "```\n",
    "select\n",
    "\tday, revenue,\n",
    "    NTH_VALUE(revenue, 3) over(order by revenue desc rows between unbounded preceding and unbounded following)\n",
    "from statistics\n",
    "where website_id = 2 \n",
    "and day >= '2016-05-15'\n",
    "and day <= '2016-05-31'\n",
    "```"
   ]
  },
  {
   "cell_type": "markdown",
   "metadata": {},
   "source": [
    "Let's run some cross-website statistics now. Take the day May 14, 2016 and for each row, show: `website_id`, revenue on that day, the highest revenue from any website on that day (`AS highest_revenue` and the lowest revenue from any website on that day (`as lowest_revenue`).\n",
    "```\n",
    "select\n",
    "\twebsite_id, revenue,\n",
    "    FIRST_VALUE(revenue) over(order by revenue desc rows between unbounded preceding and unbounded following) as highest_revenue,\n",
    "    FIRST_VALUE(revenue) over(order by revenue rows between unbounded preceding and unbounded following) as lowest_revenue\n",
    "from statistics\n",
    "where day = '2016-05-14'\n",
    "```"
   ]
  },
  {
   "cell_type": "markdown",
   "metadata": {},
   "source": [
    "Take the statistics for `website_id = 1`. For each row, show the day, the number of clicks on that day and the median of clicks in May 2016 (calculated as the 16th value of all 31 values in the column clicks when sorted by the number of clicks).\n",
    "```\n",
    "select\n",
    "\tday, clicks,\n",
    "    NTH_VALUE(clicks, 16) over(order by clicks rows between unbounded preceding and unbounded following)\n",
    "from statistics\n",
    "where website_id = 1\n",
    "```"
   ]
  },
  {
   "cell_type": "markdown",
   "metadata": {},
   "source": [
    "For each statistics row of `website_id = 3`, show the day, the number of clicks on that day and a ratio expressed as percentage: the number of clicks on that day to the greatest number of clicks on any day. Round the percentage to integer values.\n",
    "```\n",
    "select\n",
    "\tday, clicks,\n",
    "    ROUND((clicks::numeric / FIRST_VALUE(clicks) over(order by clicks desc rows between unbounded preceding and unbounded following)) * 100)\n",
    "from statistics\n",
    "where website_id = 3\n",
    "```"
   ]
  },
  {
   "cell_type": "markdown",
   "metadata": {},
   "source": [
    "For each row, show the day, the price on that day and the price on the next day.\n",
    "```\n",
    "select\n",
    "\tday, price,\n",
    "    LEAD(price) over(order by day)\n",
    "from advertisement\n",
    "```"
   ]
  },
  {
   "cell_type": "markdown",
   "metadata": {},
   "source": [
    "For each row, show the day, the price on that day, the price 7 days earlier and the difference between these two values.\n",
    "```\n",
    "select\n",
    "\tday, price,\n",
    "    LAG(price, 7) over(order by day),\n",
    "    price - LAG(price, 7) over(order by day)\n",
    "from advertisement\n",
    "```"
   ]
  },
  {
   "cell_type": "markdown",
   "metadata": {},
   "source": [
    "For each row, show the day, the price on that day, the highest price ever (column name highest_price) and the lowest price ever (column name lowest_price).\n",
    "```\n",
    "select\n",
    "\tday, price,\n",
    "    LAST_VALUE(price) over(order by price rows between unbounded preceding and unbounded following) as highest_price,\n",
    "    LAST_VALUE(price) over(order by price desc rows between unbounded preceding and unbounded following) as lowest_price\n",
    "from advertisement\n",
    "```"
   ]
  },
  {
   "cell_type": "code",
   "execution_count": null,
   "metadata": {},
   "outputs": [],
   "source": []
  }
 ],
 "metadata": {
  "kernelspec": {
   "display_name": "Python 3",
   "language": "python",
   "name": "python3"
  },
  "language_info": {
   "codemirror_mode": {
    "name": "ipython",
    "version": 3
   },
   "file_extension": ".py",
   "mimetype": "text/x-python",
   "name": "python",
   "nbconvert_exporter": "python",
   "pygments_lexer": "ipython3",
   "version": "3.7.4"
  }
 },
 "nbformat": 4,
 "nbformat_minor": 4
}
